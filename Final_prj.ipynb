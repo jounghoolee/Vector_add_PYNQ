{
 "cells": [
  {
   "cell_type": "code",
   "execution_count": 34,
   "metadata": {},
   "outputs": [],
   "source": [
    "from pynq import Overlay"
   ]
  },
  {
   "cell_type": "code",
   "execution_count": 35,
   "metadata": {},
   "outputs": [],
   "source": [
    "#overlay = Overlay('overlays/tutorial_2.bit')\n",
    "overlay = Overlay('overlays/final_prj/vector_add_1.bit')"
   ]
  },
  {
   "cell_type": "code",
   "execution_count": 36,
   "metadata": {},
   "outputs": [],
   "source": [
    "overlay?"
   ]
  },
  {
   "cell_type": "code",
   "execution_count": 37,
   "metadata": {},
   "outputs": [],
   "source": [
    "from pynq import DefaultIP"
   ]
  },
  {
   "cell_type": "code",
   "execution_count": 38,
   "metadata": {},
   "outputs": [],
   "source": [
    "class VectorAddDriver(DefaultIP):\n",
    "    def __init__(self, description):\n",
    "        super().__init__(description=description)\n",
    "    \n",
    "    bindto = ['Xilinx:hls:mult_constant:1.0']\n",
    "    \n",
    "    @property # one of python class decorator. Making it public\n",
    "    def constant(self):\n",
    "        return self.read(0x10)\n",
    "    \n",
    "    @constant.setter # one of python class decorator. Making it changable\n",
    "    def constant(self, value):\n",
    "        self.write(0x10, value)\n",
    "    \n",
    "    def start(self):\n",
    "        if (self.read(0x00) & 0xe > 0):\n",
    "            self.write(0x00, 0x1)\n",
    "        else:\n",
    "            print(\"IP is not ready\")\n",
    "        "
   ]
  },
  {
   "cell_type": "code",
   "execution_count": 39,
   "metadata": {},
   "outputs": [],
   "source": [
    "import pynq.lib.dma"
   ]
  },
  {
   "cell_type": "code",
   "execution_count": 41,
   "metadata": {},
   "outputs": [],
   "source": [
    "overlay = Overlay('overlays/final_prj/vector_add_1.bit')"
   ]
  },
  {
   "cell_type": "code",
   "execution_count": 42,
   "metadata": {},
   "outputs": [],
   "source": [
    "#dma = overlay.const_multiply.multiply_dma\n",
    "#multiply = overlay.const_multiply.multiply\n",
    "dma_A = overlay.vector_add_dma_A\n",
    "dma_B = overlay.vector_add_dma_B\n",
    "add = overlay.vector_add"
   ]
  },
  {
   "cell_type": "code",
   "execution_count": 43,
   "metadata": {},
   "outputs": [],
   "source": [
    "from pynq import allocate\n",
    "import numpy as np\n",
    "\n",
    "in_buffer_A = allocate(shape=(512,), dtype=np.uint32)\n",
    "in_buffer_B = allocate(shape=(512,), dtype=np.uint32)\n",
    "out_buffer = allocate(shape=(512,), dtype=np.uint32)\n",
    "\n",
    "for i in range(512):\n",
    "    in_buffer_A[i] = i\n",
    "    in_buffer_B[i] = i"
   ]
  },
  {
   "cell_type": "code",
   "execution_count": 44,
   "metadata": {},
   "outputs": [],
   "source": [
    "add.constant = 5\n",
    "#multiply.write(0x10, 4)"
   ]
  },
  {
   "cell_type": "code",
   "execution_count": 45,
   "metadata": {},
   "outputs": [],
   "source": [
    "# with driver\n",
    "dma_A.sendchannel.transfer(in_buffer_A)\n",
    "dma_B.sendchannel.transfer(in_buffer_B)\n",
    "dma_B.recvchannel.transfer(out_buffer)\n",
    "add.start()\n",
    "dma_A.sendchannel.wait()\n",
    "dma_B.recvchannel.wait()"
   ]
  },
  {
   "cell_type": "code",
   "execution_count": 46,
   "metadata": {},
   "outputs": [],
   "source": [
    "res = out_buffer.copy()"
   ]
  },
  {
   "cell_type": "code",
   "execution_count": 47,
   "metadata": {},
   "outputs": [
    {
     "data": {
      "text/plain": [
       "PynqBuffer([   5,    7,    9,   11,   13,   15,   17,   19,   21,   23,\n",
       "              25,   27,   29,   31,   33,   35,   37,   39,   41,   43,\n",
       "              45,   47,   49,   51,   53,   55,   57,   59,   61,   63,\n",
       "              65,   67,   69,   71,   73,   75,   77,   79,   81,   83,\n",
       "              85,   87,   89,   91,   93,   95,   97,   99,  101,  103,\n",
       "             105,  107,  109,  111,  113,  115,  117,  119,  121,  123,\n",
       "             125,  127,  129,  131,  133,  135,  137,  139,  141,  143,\n",
       "             145,  147,  149,  151,  153,  155,  157,  159,  161,  163,\n",
       "             165,  167,  169,  171,  173,  175,  177,  179,  181,  183,\n",
       "             185,  187,  189,  191,  193,  195,  197,  199,  201,  203,\n",
       "             205,  207,  209,  211,  213,  215,  217,  219,  221,  223,\n",
       "             225,  227,  229,  231,  233,  235,  237,  239,  241,  243,\n",
       "             245,  247,  249,  251,  253,  255,  257,  259,  261,  263,\n",
       "             265,  267,  269,  271,  273,  275,  277,  279,  281,  283,\n",
       "             285,  287,  289,  291,  293,  295,  297,  299,  301,  303,\n",
       "             305,  307,  309,  311,  313,  315,  317,  319,  321,  323,\n",
       "             325,  327,  329,  331,  333,  335,  337,  339,  341,  343,\n",
       "             345,  347,  349,  351,  353,  355,  357,  359,  361,  363,\n",
       "             365,  367,  369,  371,  373,  375,  377,  379,  381,  383,\n",
       "             385,  387,  389,  391,  393,  395,  397,  399,  401,  403,\n",
       "             405,  407,  409,  411,  413,  415,  417,  419,  421,  423,\n",
       "             425,  427,  429,  431,  433,  435,  437,  439,  441,  443,\n",
       "             445,  447,  449,  451,  453,  455,  457,  459,  461,  463,\n",
       "             465,  467,  469,  471,  473,  475,  477,  479,  481,  483,\n",
       "             485,  487,  489,  491,  493,  495,  497,  499,  501,  503,\n",
       "             505,  507,  509,  511,  513,  515,  517,  519,  521,  523,\n",
       "             525,  527,  529,  531,  533,  535,  537,  539,  541,  543,\n",
       "             545,  547,  549,  551,  553,  555,  557,  559,  561,  563,\n",
       "             565,  567,  569,  571,  573,  575,  577,  579,  581,  583,\n",
       "             585,  587,  589,  591,  593,  595,  597,  599,  601,  603,\n",
       "             605,  607,  609,  611,  613,  615,  617,  619,  621,  623,\n",
       "             625,  627,  629,  631,  633,  635,  637,  639,  641,  643,\n",
       "             645,  647,  649,  651,  653,  655,  657,  659,  661,  663,\n",
       "             665,  667,  669,  671,  673,  675,  677,  679,  681,  683,\n",
       "             685,  687,  689,  691,  693,  695,  697,  699,  701,  703,\n",
       "             705,  707,  709,  711,  713,  715,  717,  719,  721,  723,\n",
       "             725,  727,  729,  731,  733,  735,  737,  739,  741,  743,\n",
       "             745,  747,  749,  751,  753,  755,  757,  759,  761,  763,\n",
       "             765,  767,  769,  771,  773,  775,  777,  779,  781,  783,\n",
       "             785,  787,  789,  791,  793,  795,  797,  799,  801,  803,\n",
       "             805,  807,  809,  811,  813,  815,  817,  819,  821,  823,\n",
       "             825,  827,  829,  831,  833,  835,  837,  839,  841,  843,\n",
       "             845,  847,  849,  851,  853,  855,  857,  859,  861,  863,\n",
       "             865,  867,  869,  871,  873,  875,  877,  879,  881,  883,\n",
       "             885,  887,  889,  891,  893,  895,  897,  899,  901,  903,\n",
       "             905,  907,  909,  911,  913,  915,  917,  919,  921,  923,\n",
       "             925,  927,  929,  931,  933,  935,  937,  939,  941,  943,\n",
       "             945,  947,  949,  951,  953,  955,  957,  959,  961,  963,\n",
       "             965,  967,  969,  971,  973,  975,  977,  979,  981,  983,\n",
       "             985,  987,  989,  991,  993,  995,  997,  999, 1001, 1003,\n",
       "            1005, 1007, 1009, 1011, 1013, 1015, 1017, 1019, 1021, 1023,\n",
       "            1025, 1027], dtype=uint32)"
      ]
     },
     "execution_count": 47,
     "metadata": {},
     "output_type": "execute_result"
    }
   ],
   "source": [
    "res"
   ]
  }
 ],
 "metadata": {
  "kernelspec": {
   "display_name": "Python 3",
   "language": "python",
   "name": "python3"
  },
  "language_info": {
   "codemirror_mode": {
    "name": "ipython",
    "version": 3
   },
   "file_extension": ".py",
   "mimetype": "text/x-python",
   "name": "python",
   "nbconvert_exporter": "python",
   "pygments_lexer": "ipython3",
   "version": "3.6.5"
  }
 },
 "nbformat": 4,
 "nbformat_minor": 2
}
